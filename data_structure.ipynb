{
 "cells": [
  {
   "cell_type": "markdown",
   "metadata": {},
   "source": [
    "# 数据结构（DATA STRUCTURE）"
   ]
  },
  {
   "cell_type": "markdown",
   "metadata": {},
   "source": [
    "1. 队列（Queue）"
   ]
  },
  {
   "cell_type": "code",
   "execution_count": 12,
   "metadata": {},
   "outputs": [],
   "source": [
    "class Queue():\n",
    "    def __init__(self):\n",
    "        self.queue = []\n",
    "    def addItem(self,item):\n",
    "        self.queue.insert(0,item)\n",
    "    def delItem(self,item):\n",
    "        self.queue.pop()\n",
    "    def isEmpty():\n",
    "        return bool(len(self.queue))\n",
    "    def size():\n",
    "        return len(self.queue)\n",
    "    def __iter__():\n",
    "        pass\n",
    "    def __next__():\n",
    "        pass\n",
    "    \n",
    "    "
   ]
  },
  {
   "cell_type": "code",
   "execution_count": 17,
   "metadata": {},
   "outputs": [
    {
     "name": "stdout",
     "output_type": "stream",
     "text": [
      "[-0.3601502312173703, -0.345965057257252, 0.3319723991750468, 0.29623361034268975, -2.4003063706567773]\n"
     ]
    },
    {
     "data": {
      "text/plain": [
       "[-2.4003063706567773,\n",
       " 0.29623361034268975,\n",
       " 0.3319723991750468,\n",
       " -0.345965057257252,\n",
       " -0.3601502312173703]"
      ]
     },
     "execution_count": 17,
     "metadata": {},
     "output_type": "execute_result"
    }
   ],
   "source": [
    "import numpy as np\n",
    "pipe = Queue()\n",
    "pipe_In = [x for x in np.random.randn(5)]\n",
    "print(pipe_In)\n",
    "for x in pipe_In:\n",
    "    pipe.addItem(x)\n",
    "pipe.queue"
   ]
  },
  {
   "cell_type": "code",
   "execution_count": null,
   "metadata": {},
   "outputs": [],
   "source": []
  }
 ],
 "metadata": {
  "kernelspec": {
   "display_name": "Python 3",
   "language": "python",
   "name": "python3"
  },
  "language_info": {
   "codemirror_mode": {
    "name": "ipython",
    "version": 3
   },
   "file_extension": ".py",
   "mimetype": "text/x-python",
   "name": "python",
   "nbconvert_exporter": "python",
   "pygments_lexer": "ipython3",
   "version": "3.6.5"
  }
 },
 "nbformat": 4,
 "nbformat_minor": 2
}
