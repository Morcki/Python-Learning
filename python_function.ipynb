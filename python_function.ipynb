{
 "cells": [
  {
   "cell_type": "markdown",
   "metadata": {},
   "source": [
    "# 函数（function）"
   ]
  },
  {
   "cell_type": "code",
   "execution_count": 49,
   "metadata": {},
   "outputs": [
    {
     "name": "stdout",
     "output_type": "stream",
     "text": [
      "88\n"
     ]
    }
   ],
   "source": [
    "'''Introduction:\n",
    "LEGB RULE:\n",
    "\n",
    "Built-in(Python)\n",
    "--->Global(module)\n",
    "------->Enclosing function locals\n",
    "----------->Local(function)\n",
    "\n",
    "'''\n",
    "X = 99\n",
    "def f1():\n",
    "    \"LEGB\"\n",
    "    X = 88\n",
    "    def f2():\n",
    "        print(X)\n",
    "    func2 = f2()\n",
    "func1 = f1()\n"
   ]
  },
  {
   "cell_type": "code",
   "execution_count": 19,
   "metadata": {},
   "outputs": [
    {
     "name": "stdout",
     "output_type": "stream",
     "text": [
      "88\n",
      "88\n"
     ]
    }
   ],
   "source": [
    "\"LEGB RULE\"\n",
    "def f1():\n",
    "    \"E zone\"\n",
    "    \"X : Enclosing def local\"\n",
    "    X = 88\n",
    "    def f2():\n",
    "        print(X)\n",
    "    return(f2)\n",
    "\"method1:\"\n",
    "f1()()\n",
    "\"method2:\"\n",
    "r = f1()\n",
    "r()\n",
    "        "
   ]
  },
  {
   "cell_type": "code",
   "execution_count": 51,
   "metadata": {},
   "outputs": [
    {
     "name": "stdout",
     "output_type": "stream",
     "text": [
      "Sam Deven Kik\n",
      "Sam Deven\n",
      "Deven Kik\n",
      "Sam Kik\n",
      "10\n",
      "9\n",
      "10\n",
      "16\n",
      "<function factory.<locals>.workplace_replace at 0x7f4974560950>\n",
      "6\n",
      "15\n"
     ]
    },
    {
     "data": {
      "text/plain": [
       "'\\nconclusion:\\n    function and variables are from the same classes;\\n'"
      ]
     },
     "execution_count": 51,
     "metadata": {},
     "output_type": "execute_result"
    }
   ],
   "source": [
    "'''Introduction:\n",
    "factory function\n",
    "'''\n",
    "def factory(status,*args):\n",
    "    '''\n",
    "    worker1:---\\\n",
    "    worker2:----> :Enclosing def local\n",
    "    worker3:---/\n",
    "    *args: ---/\n",
    "    '''\n",
    "    worker1 = 'Sam'\n",
    "    worker2 = 'Deven'\n",
    "    worker3 = 'Kik'\n",
    "    def workplace():\n",
    "        return sum(args)\n",
    "    def workplace_replace(*args):\n",
    "        return sum(args)\n",
    "    def task0():\n",
    "        \"worker to do\"\n",
    "        print(worker1,worker2,worker3)\n",
    "    def task1():\n",
    "        \"worker to do\"\n",
    "        print(worker1,worker2)\n",
    "    def task2():\n",
    "        \"worker to do\"\n",
    "        print(worker2,worker3)\n",
    "    def task3():\n",
    "        \"worker to do\"\n",
    "        print(worker1,worker3)\n",
    "    if status == 'task0':\n",
    "        return task0\n",
    "    if status == 'task1':\n",
    "        return task1\n",
    "    if status == 'task2':\n",
    "        return task2\n",
    "    if status == 'task3':\n",
    "        return task3\n",
    "    if status == 'local goods':\n",
    "        return workplace\n",
    "    if status == 'goods from outer places':\n",
    "        return workplace_replace\n",
    "\n",
    "factory('task0')()\n",
    "factory('task1')()\n",
    "factory('task2')()\n",
    "factory('task3')()\n",
    "\"local goods:\"\n",
    "\"method1:\"\n",
    "fac0 = factory('local goods',1,2,3,4)\n",
    "print(fac0())\n",
    "\"method2:\"\n",
    "print(factory('local goods',2,3,4)())\n",
    "\n",
    "\"goods from outer places:\"\n",
    "\"method1:\"\n",
    "print(factory('goods from outer places')(1,2,3,4))\n",
    "print(factory('goods from outer places')(3,5,8))\n",
    "\"method2:\"\n",
    "fac0 = factory('goods from outer places')\n",
    "print(fac0)# to see fac0 belong to which zone\n",
    "print(fac0(1,2,3))\n",
    "print(fac0(4,5,6))\n",
    "\n",
    "'''\n",
    "conclusion:\n",
    "    function and variables are from the same classes;\n",
    "'''\n",
    "        "
   ]
  },
  {
   "cell_type": "code",
   "execution_count": 45,
   "metadata": {},
   "outputs": [
    {
     "name": "stdout",
     "output_type": "stream",
     "text": [
      "11\n"
     ]
    }
   ],
   "source": [
    "\"同级变量的引用\"\n",
    "X = 11\n",
    "def f():\n",
    "    print(X)\n",
    "f()"
   ]
  },
  {
   "cell_type": "code",
   "execution_count": 6,
   "metadata": {},
   "outputs": [
    {
     "name": "stdout",
     "output_type": "stream",
     "text": [
      "Output 1: [0, 1, 4, 9, 16, 25, 36, 49, 64, 81]\n",
      "Output 2: [0, 1, 16, 81, 256, 625, 1296, 2401, 4096, 6561]\n"
     ]
    }
   ],
   "source": [
    "\"lambda 表达式 与 map,filter等\"\n",
    "pipe = [i for i in range(10)]\n",
    "pipe_out = list(map(lambda x: x**2,pipe))\n",
    "print(\"Output 1:\",pipe_out)\n",
    "\n",
    "def fun(pipe): \n",
    "    action = map(lambda X:X**2,pipe)\n",
    "    return action\n",
    "print(\"Output 2:\",list(fun(pipe_out)))\n"
   ]
  },
  {
   "cell_type": "code",
   "execution_count": 17,
   "metadata": {
    "scrolled": false
   },
   "outputs": [
    {
     "name": "stdout",
     "output_type": "stream",
     "text": [
      "f TYPE: [<function makeaction.<locals>.<lambda> at 0x7f3e4065de18>, <function makeaction.<locals>.<lambda> at 0x7f3e40667158>, <function makeaction.<locals>.<lambda> at 0x7f3e406677b8>, <function makeaction.<locals>.<lambda> at 0x7f3e40667ea0>, <function makeaction.<locals>.<lambda> at 0x7f3e40667488>]\n",
      "f[0][2]: 16\n",
      "f[2][2]: 16\n",
      "f[4][2]: 16\n",
      "f_replace TYPE: [<function makeaction_replace.<locals>.<lambda> at 0x7f3e4065dea0>, <function makeaction_replace.<locals>.<lambda> at 0x7f3e40667840>, <function makeaction_replace.<locals>.<lambda> at 0x7f3e40667d90>, <function makeaction_replace.<locals>.<lambda> at 0x7f3e40667598>, <function makeaction_replace.<locals>.<lambda> at 0x7f3e406676a8>]\n",
      "f_replace[0][2]: 0\n",
      "f_replace[2][2]: 4\n",
      "f_replace[4][2]: 16\n"
     ]
    },
    {
     "data": {
      "text/plain": [
       "'\\n    conclusion:\\n        after makeaction():\\n        act = [lambda x:4**x,lambda x:4**x,lambda x:4**x,lambda x:4**x,lambda x:4**x]\\n        -->记住的时i最后的值\\n    solution:\\n        记录下i的值，方法： i = i (lambda x, i=i : i**x) # Remeber current i.\\n        \\n'"
      ]
     },
     "execution_count": 17,
     "metadata": {},
     "output_type": "execute_result"
    }
   ],
   "source": [
    "\"作用域与带有循环变量的默认参数相比较\"\n",
    "def makeaction():\n",
    "    act = []\n",
    "    for i in range(5):\n",
    "        act.append(lambda x:i**x)\n",
    "    # 等价：act = [lambda x:i**x for i in range(5)]\n",
    "    return act\n",
    "\n",
    "def makeaction_replace():\n",
    "    act = []\n",
    "    for i in range(5):\n",
    "        act.append(lambda x,i = i : i**x) # *Here:Remember current i.\n",
    "    # 等价：act = [lambda x,i = i:i**x for i in range(5)]\n",
    "    return act\n",
    "\n",
    "f = makeaction()\n",
    "f_replace = makeaction_replace()\n",
    "print('f TYPE:',f)\n",
    "print(\"f[0][2]:\",f[0](2))\n",
    "print(\"f[2][2]:\",f[2](2))\n",
    "print(\"f[4][2]:\",f[4](2))\n",
    "\n",
    "print('f_replace TYPE:',f_replace)\n",
    "print(\"f_replace[0][2]:\",f_replace[0](2))\n",
    "print(\"f_replace[2][2]:\",f_replace[2](2))\n",
    "print(\"f_replace[4][2]:\",f_replace[4](2))\n",
    "'''\n",
    "    conclusion:\n",
    "        after makeaction():\n",
    "        act = [lambda x:4**x,lambda x:4**x,lambda x:4**x,lambda x:4**x,lambda x:4**x]\n",
    "        -->记住的时i最后的值\n",
    "    solution:\n",
    "        记录下i的值，方法： i = i (lambda x, i=i : i**x) # Remeber current i.\n",
    "        \n",
    "'''"
   ]
  },
  {
   "cell_type": "code",
   "execution_count": 25,
   "metadata": {},
   "outputs": [
    {
     "name": "stdout",
     "output_type": "stream",
     "text": [
      "99\n"
     ]
    }
   ],
   "source": [
    "\"任意作用的嵌套域\"\n",
    "def f1():\n",
    "    x = 99\n",
    "    def f2():\n",
    "        #x+=1 # 请尝试去掉‘#’并运行 PS: conclusion -> nonlocal\n",
    "        def f3():\n",
    "            print(x)\n",
    "        f3()\n",
    "    f2()\n",
    "f1()\n",
    "    "
   ]
  },
  {
   "cell_type": "code",
   "execution_count": 48,
   "metadata": {},
   "outputs": [
    {
     "name": "stdout",
     "output_type": "stream",
     "text": [
      "100\n",
      "spam 0\n",
      "ham 1\n",
      "eggs 42\n",
      "ham 43\n",
      "Mocki 2\n"
     ]
    }
   ],
   "source": [
    "\"nonlocal introduction:\"\n",
    "def f1():\n",
    "    x = 99\n",
    "    def f2():\n",
    "        #nonlocal x\n",
    "        #x += 1\n",
    "        def f3():\n",
    "            nonlocal x # 从属于f1 local\n",
    "            x += 1\n",
    "            print(x)\n",
    "        f3()\n",
    "    f2()\n",
    "f1()\n",
    "\"函数也有状态变量\"\n",
    "def tester(start):\n",
    "    def nested(label):\n",
    "        print(label,nested.state)\n",
    "        nested.state += 1\n",
    "    nested.state = start\n",
    "    return nested\n",
    "    \n",
    "F = tester(0)\n",
    "F('spam')\n",
    "F('ham')\n",
    "G = tester(42)\n",
    "G('eggs')\n",
    "G('ham')\n",
    "F('Mocki')"
   ]
  },
  {
   "cell_type": "code",
   "execution_count": null,
   "metadata": {},
   "outputs": [],
   "source": []
  }
 ],
 "metadata": {
  "kernelspec": {
   "display_name": "Python 3",
   "language": "python",
   "name": "python3"
  },
  "language_info": {
   "codemirror_mode": {
    "name": "ipython",
    "version": 3
   },
   "file_extension": ".py",
   "mimetype": "text/x-python",
   "name": "python",
   "nbconvert_exporter": "python",
   "pygments_lexer": "ipython3",
   "version": "3.6.5"
  }
 },
 "nbformat": 4,
 "nbformat_minor": 2
}
